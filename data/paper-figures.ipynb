{
 "cells": [
  {
   "cell_type": "code",
   "execution_count": 33,
   "metadata": {
    "collapsed": false
   },
   "outputs": [
    {
     "name": "stdout",
     "output_type": "stream",
     "text": [
      "The watermark extension is already loaded. To reload it, use:\n",
      "  %reload_ext watermark\n"
     ]
    }
   ],
   "source": [
    "%load_ext watermark"
   ]
  },
  {
   "cell_type": "markdown",
   "metadata": {},
   "source": [
    "CEPH1463 Setup\n",
    "==============\n",
    "\n",
    "We first download the ceph1463 VCF and ped into our data-directory and then run peddy.\n",
    "\n",
    "We can see the time taken for each check.\n"
   ]
  },
  {
   "cell_type": "code",
   "execution_count": 34,
   "metadata": {
    "collapsed": true
   },
   "outputs": [],
   "source": [
    "DATA = \"/data/\" # directory where VCFs are KEPT"
   ]
  },
  {
   "cell_type": "code",
   "execution_count": 35,
   "metadata": {
    "collapsed": false
   },
   "outputs": [
    {
     "name": "stdout",
     "output_type": "stream",
     "text": [
      "/data/\n",
      "\n",
      "\u001b[1;31mped_check\u001b[0m\n",
      "ran in 5.8 seconds\n",
      "\u001b[1;31mhet_check\u001b[0m\n",
      "ran in 12.3 seconds\n",
      "\u001b[1;31msex_check\u001b[0m\n",
      "ran in 6.2 seconds\n"
     ]
    },
    {
     "name": "stderr",
     "output_type": "stream",
     "text": [
      "/media/brentp/transcend/gemini_install/data/anaconda/lib/python2.7/site-packages/ipython-4.0.0-py2.7.egg/IPython/html.py:14: ShimWarning: The `IPython.html` package has been deprecated. You should import from `notebook` instead. `IPython.html.widgets` has moved to `ipywidgets`.\n",
      "  \"`IPython.html.widgets` has moved to `ipywidgets`.\", ShimWarning)\n",
      "loaded and subsetted thousand-genomes genotypes in 0.8 seconds\n",
      "ran randomized PCA on thousand-genomes samples at 18984 sites in 3.8 seconds\n",
      "Projected thousand-genomes genotypes and sample genotypes and predicted ancestry via SVM in 0.5 seconds\n",
      "sex-check: 12404 skipped / 100000 kept\n"
     ]
    }
   ],
   "source": [
    "%%bash -s $DATA\n",
    "DATA=$1\n",
    "echo \"$1\"\n",
    "mkdir -p plots/ceph1463\n",
    "python -m peddy --prefix plots/ceph1463 --plot ${DATA}/ceph1463.vcf.gz ${DATA}/ceph1463.ped"
   ]
  },
  {
   "cell_type": "markdown",
   "metadata": {},
   "source": [
    "HTML OUTPUT\n",
    "===========\n",
    "\n",
    "Below, we embed the HTML output that is the result of the run above.\n",
    "\n",
    "As expected, we don't see any problems with this data from the well-studied 17-member CEPH pedigree."
   ]
  },
  {
   "cell_type": "code",
   "execution_count": 36,
   "metadata": {
    "collapsed": false
   },
   "outputs": [
    {
     "data": {
      "text/html": [
       "<iframe src='plots/ceph1463.html' width='100%' height='600px'></iframe>"
      ],
      "text/plain": [
       "<IPython.core.display.HTML object>"
      ]
     },
     "execution_count": 36,
     "metadata": {},
     "output_type": "execute_result"
    }
   ],
   "source": [
    "from IPython.display import HTML\n",
    "HTML(data=\"<iframe src='plots/ceph1463.html' width='100%' height='600px'></iframe>\")"
   ]
  },
  {
   "cell_type": "markdown",
   "metadata": {},
   "source": [
    "CEPH Error\n",
    "==========\n",
    "\n",
    "To demonstrate the use of `peddy`, we **introduce a pedigree error** on a smaller-subset. Note that we see some **unknown sample** warnings because we took a subset of the pedigree file and some samples that are listed as parents no longer appear in the file."
   ]
  },
  {
   "cell_type": "code",
   "execution_count": 37,
   "metadata": {
    "collapsed": false
   },
   "outputs": [
    {
     "name": "stdout",
     "output_type": "stream",
     "text": [
      "\n",
      "\u001b[1;31mped_check\u001b[0m\n",
      "ran in 6.2 seconds\n",
      "\u001b[1;31mhet_check\u001b[0m\n",
      "ran in 10.8 seconds\n",
      "\u001b[1;31msex_check\u001b[0m\n",
      "ran in 5.5 seconds\n"
     ]
    },
    {
     "name": "stderr",
     "output_type": "stream",
     "text": [
      "unknown sample: NA12889 in family: CEPH1463\n",
      "unknown sample: NA12892 in family: CEPH1463\n",
      "unknown sample: NA12890 in family: CEPH1463\n",
      "unknown sample: NA12891 in family: CEPH1463\n",
      "/media/brentp/transcend/gemini_install/data/anaconda/lib/python2.7/site-packages/ipython-4.0.0-py2.7.egg/IPython/html.py:14: ShimWarning: The `IPython.html` package has been deprecated. You should import from `notebook` instead. `IPython.html.widgets` has moved to `ipywidgets`.\n",
      "  \"`IPython.html.widgets` has moved to `ipywidgets`.\", ShimWarning)\n",
      "loaded and subsetted thousand-genomes genotypes in 0.9 seconds\n",
      "ran randomized PCA on thousand-genomes samples at 15839 sites in 2.7 seconds\n",
      "Projected thousand-genomes genotypes and sample genotypes and predicted ancestry via SVM in 0.3 seconds\n",
      "sex-check: 9883 skipped / 100000 kept\n"
     ]
    }
   ],
   "source": [
    "%%bash -s $DATA\n",
    "DATA=$1\n",
    "if [[ ! -e $DATA/ceph1463.bad.ped ]]; then\n",
    "    wget --quiet -O $DATA/ceph1463.bad.ped https://github.com/brentp/peddy/raw/master/data/ceph1463.bad.ped\n",
    "fi\n",
    "\n",
    "python -m peddy --prefix plots/bad --plot ${DATA}/ceph1463.vcf.gz ${DATA}/ceph1463.bad.ped\n",
    "\n",
    "    "
   ]
  },
  {
   "cell_type": "code",
   "execution_count": 38,
   "metadata": {
    "collapsed": false
   },
   "outputs": [
    {
     "data": {
      "text/html": [
       "<iframe src='plots/bad.html' width='100%' height='600px'></iframe>"
      ],
      "text/plain": [
       "<IPython.core.display.HTML object>"
      ]
     },
     "execution_count": 38,
     "metadata": {},
     "output_type": "execute_result"
    }
   ],
   "source": [
    "HTML(data=\"<iframe src='plots/bad.html' width='100%' height='600px'></iframe>\")"
   ]
  },
  {
   "cell_type": "code",
   "execution_count": 39,
   "metadata": {
    "collapsed": false
   },
   "outputs": [
    {
     "data": {
      "text/html": [
       "<style>.container { width:100% !important; }</style>"
      ],
      "text/plain": [
       "<IPython.core.display.HTML object>"
      ]
     },
     "metadata": {},
     "output_type": "display_data"
    }
   ],
   "source": [
    "from IPython.core.display import display, HTML\n",
    "display(HTML(\"<style>.container { width:100% !important; }</style>\"))"
   ]
  },
  {
   "cell_type": "code",
   "execution_count": 40,
   "metadata": {
    "collapsed": false
   },
   "outputs": [
    {
     "name": "stdout",
     "output_type": "stream",
     "text": [
      "CPython 2.7.12\n",
      "IPython 4.0.0\n",
      "\n",
      "peddy 0.2.2\n",
      "scipy 0.16.0\n",
      "numpy 1.10.4\n",
      "cyvcf2 0.4.1\n",
      "scikit-learn 0.17.1\n",
      "pandas 0.18.0\n",
      "networkx 1.11\n",
      "toolshed 0.4.5\n",
      "\n",
      "compiler   : GCC 4.4.7 20120313 (Red Hat 4.4.7-1)\n",
      "system     : Linux\n",
      "release    : 3.16.0-71-generic\n",
      "machine    : x86_64\n",
      "processor  : x86_64\n",
      "CPU cores  : 4\n",
      "interpreter: 64bit\n"
     ]
    }
   ],
   "source": [
    "%watermark -v -m -p peddy,scipy,numpy,cyvcf2,scikit-learn,pandas,networkx,toolshed"
   ]
  },
  {
   "cell_type": "code",
   "execution_count": null,
   "metadata": {
    "collapsed": true
   },
   "outputs": [],
   "source": []
  }
 ],
 "metadata": {
  "kernelspec": {
   "display_name": "Python 2",
   "language": "python",
   "name": "python2"
  },
  "language_info": {
   "codemirror_mode": {
    "name": "ipython",
    "version": 2
   },
   "file_extension": ".py",
   "mimetype": "text/x-python",
   "name": "python",
   "nbconvert_exporter": "python",
   "pygments_lexer": "ipython2",
   "version": "2.7.12"
  }
 },
 "nbformat": 4,
 "nbformat_minor": 0
}
